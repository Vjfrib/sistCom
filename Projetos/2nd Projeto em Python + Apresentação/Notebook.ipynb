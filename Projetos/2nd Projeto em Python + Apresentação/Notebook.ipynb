{
 "cells": [
  {
   "cell_type": "markdown",
   "metadata": {},
   "source": [
    "### Atalho\n",
    "\n",
    "<a href=\"https://colab.research.google.com/github/Vjfrib/sistemasLineares/blob/main/scripts/2%C2%BA_Projeto%2C_para_3%C2%AA_Unidade.ipynb\" target=\"_parent\"><img src=\"https://colab.research.google.com/assets/colab-badge.svg\" alt=\"Open In Colab\"/></a>\n",
    "\n",
    "<!-- Trocar o link -->"
   ]
  },
  {
   "cell_type": "markdown",
   "metadata": {},
   "source": [
    "# Título: Execução dos Exercícios. Semestre 2024.1\n",
    "\n",
    "### Entrega\n",
    "> 10/06/2024, 10:30\n",
    "\n",
    "#### Aluno(s):\n",
    "- Vinícius José\n",
    "\n",
    "#### Professor:\n",
    "- Diego Rátiva"
   ]
  },
  {
   "cell_type": "markdown",
   "metadata": {},
   "source": [
    "# Base do Experimeto\n",
    "\n",
    "- [Livro](https://www.youtube.com/watch?v=y7tFFa3poe4)\n",
    "\n",
    "# Documentos - Resultado\n",
    "\n",
    "- [Vídeo](https://www.youtube.com/watch?v=y7tFFa3poe4)\n",
    "- [Repo](https://github.com/Vjfrib/ProcesamientoDatos/tree/master/Scripts)\n",
    "    - [Documento](https://www.youtube.com/watch?v=y7tFFa3poe4)\n",
    "    - [Colab](https://www.youtube.com/watch?v=y7tFFa3poe4)\n",
    "    - [Apresentação](https://www.youtube.com/watch?v=y7tFFa3poe4)"
   ]
  },
  {
   "cell_type": "markdown",
   "metadata": {},
   "source": [
    "# Sugestões do professor\n",
    "\n",
    "Avaliação:\n",
    "1. Compartilhe o código com diego.rativa@ecomp.poli.br\n",
    "2. Salve um vídeo por cada exercício de no máximo 2min explicando o exercício. \n",
    "3. Salve o PDF do Colab e adicione na entrega desta tarefa.\n",
    "4. Serão sorteados estudantes para apresentar os exercícios durante o horário da aula.  \n",
    "\n",
    "Explicação.\n",
    "1. Não foque no código, (a disciplina não é de programação) e sim na metodología e os resultados na hora de explicar os fundamentos.\n",
    "2. Não esqueça de fundamentar-se no livro."
   ]
  },
  {
   "cell_type": "markdown",
   "metadata": {},
   "source": [
    "# Execução"
   ]
  },
  {
   "cell_type": "markdown",
   "metadata": {},
   "source": [
    "## Exercício 1 - "
   ]
  },
  {
   "cell_type": "code",
   "execution_count": 1,
   "metadata": {},
   "outputs": [
    {
     "name": "stdout",
     "output_type": "stream",
     "text": [
      "oi\n"
     ]
    }
   ],
   "source": [
    "# Execução\n",
    "print(\"oi\")"
   ]
  }
 ],
 "metadata": {
  "kernelspec": {
   "display_name": "Python 3",
   "language": "python",
   "name": "python3"
  },
  "language_info": {
   "codemirror_mode": {
    "name": "ipython",
    "version": 3
   },
   "file_extension": ".py",
   "mimetype": "text/x-python",
   "name": "python",
   "nbconvert_exporter": "python",
   "pygments_lexer": "ipython3",
   "version": "3.11.9"
  }
 },
 "nbformat": 4,
 "nbformat_minor": 2
}
